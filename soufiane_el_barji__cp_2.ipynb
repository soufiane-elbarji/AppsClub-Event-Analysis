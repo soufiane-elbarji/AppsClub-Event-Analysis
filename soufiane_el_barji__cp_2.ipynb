{
 "cells": [
  {
   "cell_type": "markdown",
   "metadata": {},
   "source": [
    "< Analyzing Club Activity and Performance >\n"
   ]
  },
  {
   "cell_type": "markdown",
   "metadata": {},
   "source": [
    "Step 1 : Importing necessary libraries"
   ]
  },
  {
   "cell_type": "code",
   "execution_count": null,
   "metadata": {},
   "outputs": [],
   "source": [
    "import pandas as pd\n",
    "import numpy as np\n",
    "import matplotlib.pyplot as plt"
   ]
  },
  {
   "cell_type": "markdown",
   "metadata": {},
   "source": [
    "Step 2 : Load the dataset"
   ]
  },
  {
   "cell_type": "code",
   "execution_count": null,
   "metadata": {},
   "outputs": [],
   "source": [
    "# Reading the CSV file into a DataFrame\n",
    "df = pd.read_csv('AppsClub_events_data.csv')\n",
    "\n",
    "# Setting the 'Session ID' column as the index\n",
    "df.set_index('Session ID', inplace=True)"
   ]
  },
  {
   "cell_type": "markdown",
   "metadata": {},
   "source": [
    "Step 3 : Handling missing values"
   ]
  },
  {
   "cell_type": "code",
   "execution_count": null,
   "metadata": {},
   "outputs": [],
   "source": [
    "# Detecting columns with missing values\n",
    "missing_values = df.isna().sum()\n",
    "print(\"Missing values in each column:\")\n",
    "print(missing_values)\n",
    "\n",
    "# Handle missing values:\n",
    "\n",
    "# For filling missing Attendees Count\n",
    "df['Attendees Count'] = df['Attendees Count'].fillna(df['Attendees Count'].mean())\n",
    "\n",
    "# For filling missing Rating values\n",
    "df['Rating'] = df['Rating'].fillna(df['Rating'].mean())\n",
    "\n",
    "# For categorical data, fill with the most frequent value\n",
    "df['Online/Offline'] = df['Online/Offline'].fillna(df['Online/Offline'].mode()[0])\n",
    "\n",
    "# Verify that missing values have been handled\n",
    "print(\"\\nMissing values after handling:\")\n",
    "print(df.isna().sum())"
   ]
  },
  {
   "cell_type": "markdown",
   "metadata": {},
   "source": [
    "Step 4 : Event Analysis"
   ]
  },
  {
   "cell_type": "code",
   "execution_count": null,
   "metadata": {},
   "outputs": [],
   "source": [
    "# Group rows by event name\n",
    "event_groups = df.groupby('Event Name')\n",
    "\n",
    "# Calculate the average number of attendees for each event\n",
    "avg_attendees_by_event = event_groups['Attendees Count'].mean().sort_values(ascending=False)\n",
    "print(\"Average number of attendees by event:\")\n",
    "print(avg_attendees_by_event)\n",
    "\n",
    "# Calculate the average rating for each event\n",
    "avg_rating_by_event = event_groups['Rating'].mean().sort_values(ascending=False)\n",
    "print(\"\\nAverage rating by event:\")\n",
    "print(avg_rating_by_event)\n",
    "\n",
    "# Compare online vs. offline events\n",
    "online_offline_groups = df.groupby('Online/Offline')\n",
    "\n",
    "# Calculate average attendees count for online vs. offline events\n",
    "avg_attendees_by_mode = online_offline_groups['Attendees Count'].mean()\n",
    "print(\"\\nAverage attendees by event mode (Online/Offline):\")\n",
    "print(avg_attendees_by_mode)\n",
    "\n",
    "# Calculate average rating for online vs. offline events\n",
    "avg_rating_by_mode = online_offline_groups['Rating'].mean()\n",
    "print(\"\\nAverage rating by event mode (Online/Offline):\")\n",
    "print(avg_rating_by_mode)"
   ]
  },
  {
   "cell_type": "markdown",
   "metadata": {},
   "source": [
    "Step 5 : Identify the most and least popular events"
   ]
  },
  {
   "cell_type": "code",
   "execution_count": null,
   "metadata": {},
   "outputs": [],
   "source": [
    "# Sort events by attendance count in descending order\n",
    "events_by_attendance = df.groupby('Event Name')['Attendees Count'].mean().sort_values(ascending=False)\n",
    "\n",
    "# Top 5 most attended events\n",
    "top_5_events = events_by_attendance.head(5)\n",
    "print(\"Top 5 most attended events:\")\n",
    "print(top_5_events)\n",
    "\n",
    "# Bottom 5 least attended events\n",
    "bottom_5_events = events_by_attendance.tail(5)\n",
    "print(\"\\nBottom 5 least attended events:\")\n",
    "print(bottom_5_events)\n",
    "\n",
    "# Create a bar chart for all events by attendance count\n",
    "plt.figure(figsize=(14, 8))\n",
    "events_by_attendance.plot(kind='bar', color='skyblue')\n",
    "plt.title('Events Ranked by Average Attendance')\n",
    "plt.xlabel('Event Name')\n",
    "plt.ylabel('Average Attendees Count')\n",
    "plt.xticks(rotation=45, ha='right')\n",
    "plt.grid(axis='y', linestyle='--', alpha=0.7)\n",
    "plt.tight_layout()\n",
    "plt.show()"
   ]
  },
  {
   "cell_type": "markdown",
   "metadata": {},
   "source": [
    "Step 6: Analyze event duration vs. feedback score"
   ]
  },
  {
   "cell_type": "code",
   "execution_count": null,
   "metadata": {},
   "outputs": [],
   "source": [
    "# Create a scatter plot for duration vs. rating\n",
    "plt.figure(figsize=(10, 6))\n",
    "plt.scatter(df['Duration'], df['Rating'], alpha=0.7, c='blue', edgecolors='black')\n",
    "plt.title('Relationship Between Event Duration and Feedback Score')\n",
    "plt.xlabel('Duration (minutes)')\n",
    "plt.ylabel('Rating')\n",
    "plt.grid(True, linestyle='--', alpha=0.7)\n",
    "\n",
    "# Calculate and plot the trend line\n",
    "z = np.polyfit(df['Duration'], df['Rating'], 1)\n",
    "p = np.poly1d(z)\n",
    "plt.plot(df['Duration'], p(df['Duration']), \"r--\", alpha=0.7, \n",
    "         label=f'Trend line: y={z[0]:.4f}x+{z[1]:.4f}')\n",
    "\n",
    "plt.legend()\n",
    "plt.tight_layout()\n",
    "plt.show()"
   ]
  },
  {
   "cell_type": "markdown",
   "metadata": {},
   "source": [
    "Step 7: Count events organized by each member"
   ]
  },
  {
   "cell_type": "code",
   "execution_count": null,
   "metadata": {},
   "outputs": [],
   "source": [
    "# Count occurrences of each speaker\n",
    "speaker_counts = df['Speaker'].value_counts()\n",
    "print(\"Number of events organized by each member:\")\n",
    "print(speaker_counts)"
   ]
  },
  {
   "cell_type": "markdown",
   "metadata": {},
   "source": [
    "Step 8: Identify the most active member"
   ]
  },
  {
   "cell_type": "code",
   "execution_count": null,
   "metadata": {},
   "outputs": [],
   "source": [
    "# Find the maximum number of events\n",
    "max_events = speaker_counts.max()\n",
    "\n",
    "# Find the speaker with the highest count\n",
    "most_active_speaker = speaker_counts.idxmax()\n",
    "\n",
    "print(f\"The most active member is {most_active_speaker} who organized {max_events} events.\")"
   ]
  },
  {
   "cell_type": "markdown",
   "metadata": {},
   "source": [
    "Step 9: Best-rated organizing member"
   ]
  },
  {
   "cell_type": "code",
   "execution_count": null,
   "metadata": {},
   "outputs": [],
   "source": [
    "# Calculate the average rating per speaker\n",
    "avg_rating_by_speaker = df.groupby('Speaker')['Rating'].mean().sort_values(ascending=False)\n",
    "\n",
    "# Find the highest rating and the corresponding speaker\n",
    "best_rated_speaker = avg_rating_by_speaker.idxmax()\n",
    "best_rating = avg_rating_by_speaker.max()\n",
    "\n",
    "print(f\"The best-rated organizing member is {best_rated_speaker} with an average rating of {best_rating:.2f}.\")"
   ]
  },
  {
   "cell_type": "markdown",
   "metadata": {},
   "source": [
    "Step 10: Visualizing new attendee trend over time"
   ]
  },
  {
   "cell_type": "code",
   "execution_count": null,
   "metadata": {},
   "outputs": [],
   "source": [
    "# Convert date column to datetime format for proper sorting\n",
    "df['Date'] = pd.to_datetime(df['Date'], format='%d-%b-%Y')\n",
    "\n",
    "# Sort the dataset by date\n",
    "df_sorted = df.sort_values('Date')\n",
    "\n",
    "# Create a numeric representation of time (e.g., days since first event)\n",
    "# First, make sure Date is in datetime format\n",
    "df_sorted['Date'] = pd.to_datetime(df_sorted['Date'], format='%d-%b-%Y')\n",
    "df_sorted['Days'] = (df_sorted['Date'] - df_sorted['Date'].min()).dt.days\n",
    "\n",
    "# Now calculate correlation between Days and New Attendees\n",
    "correlation = df_sorted['New Attendees'].corr(df_sorted['Days'])\n",
    "\n",
    "# Determine trend\n",
    "trend_message = \"increasing\" if correlation > 0 else \"decreasing\"\n",
    "\n",
    "# Create the plot\n",
    "plt.figure(figsize=(10, 6))\n",
    "plt.plot(df_sorted['Date'], df_sorted['New Attendees'], marker='o', linestyle='-')\n",
    "plt.title(f'New Attendees Over Time (Trend: {trend_message})')\n",
    "plt.xlabel('Date')\n",
    "plt.ylabel('Number of New Attendees')\n",
    "plt.xticks(rotation=45)\n",
    "plt.grid(True, alpha=0.3)\n",
    "plt.tight_layout()\n",
    "plt.show()\n",
    "\n",
    "# Print trend information\n",
    "print(f\"The number of new attendees is generally {trend_message} over time.\")\n",
    "print(f\"Correlation coefficient: {correlation:.2f}\")"
   ]
  }
 ],
 "metadata": {
  "kernelspec": {
   "display_name": "Python 3",
   "language": "python",
   "name": "python3"
  },
  "language_info": {
   "codemirror_mode": {
    "name": "ipython",
    "version": 3
   },
   "file_extension": ".py",
   "mimetype": "text/x-python",
   "name": "python",
   "nbconvert_exporter": "python",
   "pygments_lexer": "ipython3",
   "version": "3.10.10"
  }
 },
 "nbformat": 4,
 "nbformat_minor": 2
}
